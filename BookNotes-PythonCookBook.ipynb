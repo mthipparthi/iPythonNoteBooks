{
 "cells": [
  {
   "cell_type": "code",
   "execution_count": 17,
   "metadata": {
    "collapsed": false,
    "scrolled": false
   },
   "outputs": [
    {
     "name": "stdout",
     "output_type": "stream",
     "text": [
      "4 5\n",
      "ACME (2012, 12, 21)\n",
      "50 91.1\n",
      "Dave ['dave@example.com', '773-555-1212', '847-555-1212']\n",
      "H e\n",
      "[10, 20, 30, 40]\n",
      "['*', '-2', '-2', 'Unprivileged User']\n",
      "36\n",
      "1\n"
     ]
    }
   ],
   "source": [
    "# Unpacking values into variables,it can be from tuple or it can be list.for that matter any iterable\n",
    "# \n",
    "p=(4,5)\n",
    "a,b = p\n",
    "print(a,b)\n",
    "data=['ACME',50,91.1,(2012,12,21)]\n",
    "name,shares,price,date=data\n",
    "print(name,date)\n",
    "\n",
    "# You can ignore any value\n",
    "_,shares,_,date=data\n",
    "print(shares,_)\n",
    "\n",
    "# if you want to only few front values into separate vraiables and capture rest of them. this will be supported in only python 3\n",
    "record=('Dave','dave@example.com','773-555-1212','847-555-1212')\n",
    "name, *other = record\n",
    "print(name, other)\n",
    "\n",
    "s='Hello'\n",
    "a,b,c,d,e = s\n",
    "print(a,b)\n",
    "\n",
    "#this can be used to vraiable arguments as well.\n",
    "def drop_first_last(grades):\n",
    "    first, *middle, last=grades\n",
    "    return middle\n",
    "rec = ('mahehsh', 10,20,30,40,'thipparthi')\n",
    "\n",
    "print(drop_first_last(rec))\n",
    "\n",
    "#this can be used to vraiable arguments as well.\n",
    "line='nobody:*:-2:-2:Unprivileged User:/var/empty:/usr/bin/false'\n",
    "uname,*fields,homedir,sh=line.split(':')\n",
    "print(fields)\n",
    "\n",
    "def sum(items):\n",
    "    head,*tail=items\n",
    "    return head + sum(tail) if tail else head\n",
    "\n",
    "items=[1,10,7,4,5,9]\n",
    "print(sum(items))\n",
    "items1=[1,]\n",
    "print(sum(items1))    "
   ]
  },
  {
   "cell_type": "code",
   "execution_count": 48,
   "metadata": {
    "collapsed": false,
    "scrolled": false
   },
   "outputs": [
    {
     "name": "stdout",
     "output_type": "stream",
     "text": [
      "Keyerror exception\n",
      "Value\n",
      "dict_values([[1000], [10000], [10, 100]])\n",
      "dict_values([[1, 2], [2]])\n",
      "0.0\n",
      "odict_values([10, 100, 1000, 10000])\n",
      "(10.75, 'FB')\n",
      "(612.78, 'AAPL')\n",
      "(10.75, 'FB')\n",
      "dict_keys(['AAPL', 'ACME', 'HPQ', 'FB', 'IBM'])\n"
     ]
    }
   ],
   "source": [
    "# dictionary usage\n",
    "# \n",
    "\n",
    "dict = {}\n",
    "# you can acces dict elements multiple ways either by\n",
    "#  it is directly accesses like you access as array,it throws an excpetion when KEY is not found\n",
    "try:\n",
    "    dict['key']\n",
    "except KeyError:\n",
    "    print(\"Keyerror exception\")\n",
    "    \n",
    "try:\n",
    "    dict['key'] = \"Value\"\n",
    "except KeyError:\n",
    "    print(\"Keyerror exception\")\n",
    "    \n",
    "# To safely write code,it is advaisabke to use with GET with DEFAULT value\n",
    "print(dict.get('key', None))\n",
    "\n",
    "# to avoid KeyErrors there is also one other way by popluationg the default keys ,that it wont complain incase\n",
    "# key is not found rather it creates a key\n",
    "# A feature of defaultdict is that it automatically initializes the first value \n",
    "\n",
    "from collections import defaultdict\n",
    "d=defaultdict(list)\n",
    "d['key1'].append(10)\n",
    "d['key1'].append(100)\n",
    "d['key2'].append(1000)\n",
    "d['key3'].append(10000)\n",
    "print(d.values())\n",
    "\n",
    "# other way to use default dict behvaiour is calling setdefault on dict\n",
    "d={}# A regular dictionary\n",
    "d.setdefault('a',[]).append(1)\n",
    "d.setdefault('a',[]).append(2)\n",
    "d.setdefault('b',[]).append(2)\n",
    "print(d.values())\n",
    "\n",
    "# if you want values to be prepopulated with ZERO then use INT,FLOAT\n",
    "d = defaultdict(float)\n",
    "d['key1'] = 100\n",
    "print(d['key2'])\n",
    "\n",
    "# To preserve the order of inserting the values in python 3 we have OrderedDict\n",
    "#  primary use case can be to convert into JSON\n",
    "from collections import OrderedDict\n",
    "d=OrderedDict()\n",
    "d['key0']= 10\n",
    "d['key1']= 100\n",
    "d['key2']= 1000\n",
    "d['key3']= 10000\n",
    "print(d.values())\n",
    "\n",
    "import json\n",
    "# best way to distinguish beween dict and json is to \"\" around key\n",
    "json.dumps(d)\n",
    "\n",
    "# zip playes an important role in creating dictionary with given set of keys and values.\n",
    "# it should be genrally ensured that keys and values are of same size . if not values will be mapped to keys of same size\n",
    "#  rest will be ignored.\n",
    "\n",
    "prices={'ACME':45.23,'AAPL':612.78,'IBM':205.55,'HPQ':37.20,'FB':10.75}\n",
    "min_price=min(zip(prices.values(),prices.keys()))\n",
    "max_price=max(zip(prices.values(),prices.keys()))\n",
    "\n",
    "print(min_price)\n",
    "print(max_price)\n",
    "\n",
    "# When doing these calculations, be aware that zip()creates an iterator that can only beconsumed once.\n",
    "# For example, the following code is an error:\n",
    "prices_and_names=zip(prices.values(),prices.keys())\n",
    "print(min(prices_and_names))# OK\n",
    "# print(max(prices_and_names))# ValueError: max() arg is an empty sequence\n",
    "\n",
    "min(prices,key=lambda k:prices[k])\n",
    "min_value=prices[min(prices,key=lambda k:prices[k])]\n",
    "min_value=min(zip(prices.values(),prices.keys()))\n",
    "\n",
    "\n",
    "print(prices.keys())\n",
    "\n"
   ]
  },
  {
   "cell_type": "code",
   "execution_count": 4,
   "metadata": {
    "collapsed": false
   },
   "outputs": [
    {
     "name": "stdout",
     "output_type": "stream",
     "text": [
      "[2, 3]\n",
      "10\n",
      "50\n",
      "2\n"
     ]
    }
   ],
   "source": [
    "#  slice is clean of slicing a astring....\n",
    "items=[0,1,2,3,4,5,6]\n",
    "slicing_2_4 = slice(2,4)\n",
    "print(items[slicing_2_4])\n",
    "\n",
    "a = slice(10, 50, 2)\n",
    "print(a.start)\n",
    "print(a.stop)\n",
    "print(a.step)"
   ]
  },
  {
   "cell_type": "code",
   "execution_count": 5,
   "metadata": {
    "collapsed": false
   },
   "outputs": [
    {
     "name": "stdout",
     "output_type": "stream",
     "text": [
      "[('eyes', 8), ('the', 5), ('look', 4)]\n"
     ]
    }
   ],
   "source": [
    "# Needless to say, Counter objects are a tremendously useful tool for almost any kind of problem \n",
    "# where you need to tabulate and count data. You should prefer this over man‐ ually written solutions \n",
    "# involving dictionaries.\n",
    "words = [\n",
    "       'look', 'into', 'my', 'eyes', 'look', 'into', 'my', 'eyes',\n",
    "       'the', 'eyes', 'the', 'eyes', 'the', 'eyes', 'not', 'around', 'the',\n",
    "       'eyes', \"don't\", 'look', 'around', 'the', 'eyes', 'look', 'into',\n",
    "       'my', 'eyes', \"you're\", 'under'\n",
    "]\n",
    "from collections import Counter\n",
    "word_counts = Counter(words)\n",
    "top_three = word_counts.most_common(3)\n",
    "print(top_three)"
   ]
  },
  {
   "cell_type": "code",
   "execution_count": 8,
   "metadata": {
    "collapsed": false,
    "scrolled": true
   },
   "outputs": [
    {
     "name": "stdout",
     "output_type": "stream",
     "text": [
      "[{'lname': 'Jones', 'fname': 'Big', 'uid': 1004}, {'lname': 'Jones', 'fname': 'Brian', 'uid': 1003}, {'lname': 'Beazley', 'fname': 'David', 'uid': 1002}, {'lname': 'Cleese', 'fname': 'John', 'uid': 1001}]\n",
      "[{'lname': 'Cleese', 'fname': 'John', 'uid': 1001}, {'lname': 'Beazley', 'fname': 'David', 'uid': 1002}, {'lname': 'Jones', 'fname': 'Brian', 'uid': 1003}, {'lname': 'Jones', 'fname': 'Big', 'uid': 1004}]\n",
      "[{'lname': 'Jones', 'fname': 'Big', 'uid': 1004}, {'lname': 'Jones', 'fname': 'Brian', 'uid': 1003}, {'lname': 'Beazley', 'fname': 'David', 'uid': 1002}, {'lname': 'Cleese', 'fname': 'John', 'uid': 1001}]\n"
     ]
    }
   ],
   "source": [
    "#  like sql group by on dictionary\n",
    "rows=[\n",
    "    {'fname': 'Brian', 'lname': 'Jones', 'uid': 1003}, \n",
    "    {'fname': 'David', 'lname': 'Beazley', 'uid': 1002}, \n",
    "    {'fname': 'John', 'lname': 'Cleese', 'uid': 1001}, \n",
    "    {'fname': 'Big', 'lname': 'Jones', 'uid': 1004}\n",
    "]\n",
    "# It’s fairly easy to output these rows ordered by any of the fields common to all of the dictionaries. For example:\n",
    "from operator import itemgetter\n",
    "rows_by_fname = sorted(rows, key=itemgetter('fname'))\n",
    "rows_by_uid = sorted(rows, key=itemgetter('uid'))\n",
    "\n",
    "rows_by_fname_lname = sorted(rows, key=itemgetter('fname','lname'))\n",
    "\n",
    "print(rows_by_fname)\n",
    "print(rows_by_uid)\n",
    "print(rows_by_fname_lname)\n",
    "\n",
    "from itertools import groupby\n"
   ]
  },
  {
   "cell_type": "code",
   "execution_count": 11,
   "metadata": {
    "collapsed": false
   },
   "outputs": [
    {
     "name": "stdout",
     "output_type": "stream",
     "text": [
      "[User(23), User(3), User(99)]\n",
      "[User(3), User(23), User(99)]\n"
     ]
    }
   ],
   "source": [
    "# Sorting Objects Without Native Comparison Support\n",
    "class User:\n",
    "    def __init__(self, user_id):\n",
    "        self.user_id = user_id\n",
    "    def __repr__(self):\n",
    "        return 'User({})'.format(self.user_id)\n",
    "users = [User(23), User(3), User(99)]\n",
    "print(users)\n",
    "s_users = sorted(users, key=lambda u: u.user_id)\n",
    "print(s_users)\n"
   ]
  },
  {
   "cell_type": "code",
   "execution_count": 15,
   "metadata": {
    "collapsed": false
   },
   "outputs": [
    {
     "name": "stdout",
     "output_type": "stream",
     "text": [
      "[1, 4, 10, 2, 3]\n",
      "<generator object <genexpr> at 0x1052670f8>\n",
      "[1, 4, 10, 2, 3]\n",
      "1\n",
      "4\n",
      "10\n",
      "2\n",
      "3\n"
     ]
    }
   ],
   "source": [
    "#list comprehension and generators\n",
    "mylist = [1, 4, -5, 10, -7, 2, 3, -1]\n",
    "print([x for x in mylist if x>0])\n",
    "#genrators\n",
    "print((x for x in mylist if x>0))\n",
    "#applying list on genrator does not make sense if that is the case it can be easily done in list comprehension\n",
    "print(list(x for x in mylist if x>0))\n",
    "#here genrator makes sense\n",
    "for v in (x for x in mylist if x>0):\n",
    "    print(v)\n",
    "    \n",
    "# where it is is cumbersoem to use LC and GEN, you can use filter to filter out similaly MAP\n",
    "    "
   ]
  },
  {
   "cell_type": "code",
   "execution_count": 17,
   "metadata": {
    "collapsed": false
   },
   "outputs": [],
   "source": [
    "# to compress two lists and imposing one on other\n",
    "#  addresses = [\n",
    "#         '5412 N CLARK',\n",
    "#         '5148 N CLARK',\n",
    "#         '5800 E 58TH',\n",
    "#         '2122 N CLARK'\n",
    "#         '5645 N RAVENSWOOD',\n",
    "#         '1060 W ADDISON',\n",
    "#         '4801 N BROADWAY',\n",
    "#         '1039 W GRANVILLE',\n",
    "# ] counts=[0,3,10,4,1,7,6,1]\n",
    "# Now suppose you want to make a list of all addresses where the corresponding count value was greater than 5. Here’s how you could do it:\n",
    "# >>> from itertools import compress >>>more5=[n>5fornincounts]\n",
    "# >>> more5\n",
    "# [False, False, True, False, False, True, True, False] >>> list(compress(addresses, more5))\n",
    "#     ['5800 E 58TH', '4801 N BROADWAY', '1039 W GRANVILLE']\n",
    "#     >>>\n",
    "# The key here is to first create a sequence of Booleans that indicates which elements satisfy the desired condition. The compress() function then picks out the items corre‐ sponding to True values.\n",
    "# Like filter(), compress() normally returns an iterator. Thus, you need to use list() to turn the results into a list if desired."
   ]
  },
  {
   "cell_type": "code",
   "execution_count": 35,
   "metadata": {
    "collapsed": false,
    "scrolled": false
   },
   "outputs": [
    {
     "name": "stdout",
     "output_type": "stream",
     "text": [
      "['asdf', 'fjdk;', 'afed,', 'fjek,asdf,', 'foo']\n",
      "['asdf', 'fjdk', 'afed', 'fjek', 'asdf', 'foo']\n",
      "['asdf', ' ', 'fjdk', ';', 'afed', ',', 'fjek', ',', 'asdf', ',', 'foo']\n",
      "['asdf', 'fjdk', 'afed', 'fjek', 'asdf', 'foo']\n",
      "True\n",
      "False\n",
      "True\n",
      "['learnings_from_cook_book.ipynb', 'MyFirstIpython.ipynb', 'PythonCookBook.ipynb', 'Untitled.ipynb', 'Untitled1.ipynb', 'Untitled10.ipynb', 'Untitled11.ipynb', 'Untitled12.ipynb', 'Untitled13.ipynb', 'Untitled14.ipynb', 'Untitled15.ipynb', 'Untitled16.ipynb', 'Untitled2.ipynb', 'Untitled3.ipynb', 'Untitled4.ipynb', 'Untitled5.ipynb', 'Untitled6.ipynb', 'Untitled7.ipynb', 'Untitled8.ipynb', 'Untitled9.ipynb']\n",
      "True\n"
     ]
    }
   ],
   "source": [
    "# string manipulation\n",
    "# Splitting Strings on Any of Multiple Delimiters\n",
    "line = 'asdf fjdk; afed, fjek,asdf, foo'\n",
    "print(line.split())\n",
    "\n",
    "import re\n",
    "rslt = re.split(r'[;,\\s]\\s*', line)\n",
    "print(rslt)\n",
    "fields = re.split(r'(;|,|\\s)\\s*', line)\n",
    "print(fields)\n",
    "values = fields[::2]\n",
    "print(values)\n",
    "\n",
    "# Matching Text at the Start or End of a String\n",
    "# A simple way to check the beginning or end of a string is to use the str.starts with() or str.endswith() methods\n",
    "filename = 'spam.txt'\n",
    "print(filename.endswith('.txt'))\n",
    "print(filename.startswith('file:'))\n",
    "url = 'http://www.python.org'\n",
    "print(url.startswith('http:'))\n",
    "\n",
    "import os\n",
    "filenames = os.listdir('.')\n",
    "print([file for file in filenames if file.endswith('.ipynb')])\n",
    "print( any(list(name.endswith('.py') for name in filenames)))\n",
    "\n",
    "from urllib.request import urlopen\n",
    "def read_data(name):\n",
    "    if name.startswith(('http:', 'https:', 'ftp:')):\n",
    "        return urlopen(name).read() \n",
    "    else:\n",
    "        with open(name) as f: \n",
    "            return f.read()\n",
    "# choices = ['http:', 'ftp:']\n",
    "# url.startswith(tuple(choices))\n",
    "\n"
   ]
  },
  {
   "cell_type": "code",
   "execution_count": 36,
   "metadata": {
    "collapsed": false
   },
   "outputs": [
    {
     "name": "stdout",
     "output_type": "stream",
     "text": [
      "True\n",
      "False\n",
      "10\n"
     ]
    }
   ],
   "source": [
    "# If the text you’re trying to match is a simple literal, \n",
    "# you can often just use the basic string methods, such as str.find(), str.endswith(), str.startswith()\n",
    "\n",
    "text = 'yeah, but no, but yeah, but no, but yeah'\n",
    "print(text.startswith('yeah'))\n",
    "print(text.endswith('no'))\n",
    "# Search for the location of the first occurrence \n",
    "print(text.find('no'))"
   ]
  },
  {
   "cell_type": "code",
   "execution_count": 44,
   "metadata": {
    "collapsed": false
   },
   "outputs": [
    {
     "name": "stdout",
     "output_type": "stream",
     "text": [
      "Yes\n",
      "No\n",
      "Yes\n",
      "['11/27/2012', '3/13/2013']\n",
      "11\n",
      "27\n",
      "2012\n",
      "11 27 2012\n",
      "2012-11-27\n",
      "2013-3-13\n"
     ]
    }
   ],
   "source": [
    "# For more complicated matching, use regular expressions and the re module. \n",
    "# To illus‐ trate the basic mechanics of using regular expressions, \n",
    "# suppose you want to match dates specified as digits, such as “11/27/2012.” \n",
    "text1 = '11/27/2012'\n",
    "text2 = 'Nov 27, 2012'\n",
    "import re\n",
    "if re.match(r'\\d+/\\d+/\\d+', text1):\n",
    "    print('Yes')\n",
    "else:\n",
    "    print('No')\n",
    "\n",
    "if re.match(r'\\d+/\\d+/\\d+', text2):\n",
    "    print('Yes')\n",
    "else:\n",
    "    print('No')\n",
    "    \n",
    "# If you’re going to perform a lot of matches using the same pattern, it usually pays to \n",
    "# precompile the regular expression pattern into a pattern object first. For example:\n",
    "datepat = re.compile(r'\\d+/\\d+/\\d+')\n",
    "\n",
    "if datepat.match(text1):\n",
    "    print('Yes')\n",
    "else:\n",
    "    print('No')\n",
    "    \n",
    "# match() always tries to find the match at the start of a string. \n",
    "# If you want to search text for all occurrences of a pattern, use the findall() method instead. For example:\n",
    "text = 'Today is 11/27/2012. PyCon starts 3/13/2013.'\n",
    "print(datepat.findall(text))\n",
    "\n",
    "# When defining regular expressions, it is common to introduce capture groups by \n",
    "# en‐ closing parts of the pattern in parentheses. For example:\n",
    "datepat = re.compile(r'(\\d+)/(\\d+)/(\\d+)')\n",
    "m = datepat.match('11/27/2012')\n",
    "print(m.group(1))\n",
    "print(m.group(2))\n",
    "print(m.group(3))\n",
    "month, day, year = m.groups()\n",
    "print (month,day,year)\n",
    "\n",
    "for month, day, year in datepat.findall(text):\n",
    "    print('{}-{}-{}'.format(year, month, day))"
   ]
  },
  {
   "cell_type": "code",
   "execution_count": 51,
   "metadata": {
    "collapsed": false
   },
   "outputs": [
    {
     "name": "stdout",
     "output_type": "stream",
     "text": [
      "Today is 2012-11-27. PyCon starts 2013-3-13.\n"
     ]
    },
    {
     "data": {
      "text/plain": [
       "'Today is 27 Nov 2012. PyCon starts 13 Mar 2013.'"
      ]
     },
     "execution_count": 51,
     "metadata": {},
     "output_type": "execute_result"
    }
   ],
   "source": [
    "# Searching and Replacing Text\n",
    "text = 'yeah, but no, but yeah, but no, but yeah'\n",
    "text.replace('yeah', 'yep')\n",
    "text = 'Today is 11/27/2012. PyCon starts 3/13/2013.'\n",
    "import re\n",
    "rslt= re.sub(r'(\\d+)/(\\d+)/(\\d+)', r'\\3-\\1-\\2', text)\n",
    "print(rslt)\n",
    "# same with callback function\n",
    "from calendar import month_abbr\n",
    "def change_date(m):\n",
    "    mon_name = month_abbr[int(m.group(1))]\n",
    "    return '{} {} {}'.format(m.group(2), mon_name, m.group(3))\n",
    "datepat.sub(change_date, text)"
   ]
  },
  {
   "cell_type": "code",
   "execution_count": 52,
   "metadata": {
    "collapsed": false
   },
   "outputs": [
    {
     "name": "stdout",
     "output_type": "stream",
     "text": [
      "UPPER snake, lower snake, Mixed snake\n"
     ]
    }
   ],
   "source": [
    "# Searching and Replacing Case-Insensitive Text\n",
    "text = 'UPPER PYTHON, lower python, Mixed Python'\n",
    "re.findall('python', text, flags=re.IGNORECASE)\n",
    "print(re.sub('python', 'snake', text, flags=re.IGNORECASE))"
   ]
  },
  {
   "cell_type": "code",
   "execution_count": 64,
   "metadata": {
    "collapsed": false
   },
   "outputs": [
    {
     "name": "stdout",
     "output_type": "stream",
     "text": [
      "[' this is a comment ']\n",
      "[]\n",
      "[' this is a comment ']\n",
      "[' this is a\\n        multiline comment ']\n"
     ]
    }
   ],
   "source": [
    "# Specifying a Regular Expression for the Shortest Match\n",
    "str_pat = re.compile(r'\\\"(.*)\\\"')\n",
    "text1 = 'Computer says \"no.\"'\n",
    "str_pat.findall(text1)\n",
    "text2 = 'Computer says \"no.\" Phone says \"yes.\"'\n",
    "str_pat.findall(text2)\n",
    "\n",
    "str_pat = re.compile(r'\\\"(.*?)\\\"')\n",
    "str_pat.findall(text2)\n",
    "\n",
    "# Writing a Regular Expression for Multiline Patterns\n",
    "# You’re trying to match a block of text using a regular expression, but you need the match to span multiple lines.\n",
    "comment = re.compile(r'/\\*(.*?)\\*/')\n",
    "text1 = '/* this is a comment */'\n",
    "text2 = '''/* this is a\n",
    "        multiline comment */'''\n",
    "\n",
    "print(comment.findall(text1))\n",
    "print(comment.findall(text2))\n",
    "\n",
    "comment = re.compile(r'/\\*((?:.|\\n)*?)\\*/')\n",
    "\n",
    "print(comment.findall(text1))\n",
    "print(comment.findall(text2))"
   ]
  },
  {
   "cell_type": "code",
   "execution_count": 68,
   "metadata": {
    "collapsed": false
   },
   "outputs": [
    {
     "name": "stdout",
     "output_type": "stream",
     "text": [
      "hello world\n",
      "hello world \n",
      "\n",
      " hello world\n",
      "hello=====\n",
      "hello\n"
     ]
    }
   ],
   "source": [
    "# Stripping Unwanted Characters from Strings\n",
    "s = ' hello world \\n'\n",
    "print(s.strip())\n",
    "print(s.lstrip())\n",
    "print(s.rstrip())\n",
    "\n",
    "t = '-----hello====='\n",
    "print(t.lstrip('-'))\n",
    "print(t.strip('-='))"
   ]
  },
  {
   "cell_type": "code",
   "execution_count": 72,
   "metadata": {
    "collapsed": false
   },
   "outputs": [
    {
     "name": "stdout",
     "output_type": "stream",
     "text": [
      "Hello World         \n",
      "         Hello World\n",
      "    Hello World     \n",
      "=========Hello World\n",
      "****Hello World*****\n"
     ]
    }
   ],
   "source": [
    "# Aligning Text Strings\n",
    "text = 'Hello World'\n",
    "print(text.ljust(20))\n",
    "print(text.rjust(20))\n",
    "print(text.center(20))\n",
    "print(text.rjust(20,'='))\n",
    "print(text.center(20,'*'))"
   ]
  },
  {
   "cell_type": "code",
   "execution_count": 77,
   "metadata": {
    "collapsed": false
   },
   "outputs": [
    {
     "name": "stdout",
     "output_type": "stream",
     "text": [
      "ACME:50:91.1\n"
     ]
    }
   ],
   "source": [
    "# Combining and Concatenating Strings\n",
    "#At first glance, this syntax might look really odd, but the join() operation is specified as \n",
    "# a method on strings. Partly this is because the objects you want to join could come from any number of different\n",
    "# data sequences (e.g., lists, tuples, dicts, files, sets, or gen‐ erators), and it would be redundant to have join()\n",
    "# implemented as a method on all of those objects separately. So you just specify the separator string that you want\n",
    "# and use the join() method on it to glue text fragments together.\n",
    "parts = ['Is', 'Chicago', 'Not', 'Chicago?']\n",
    "','.join(parts)\n",
    "data = ['ACME', 50, 91.1]\n",
    "','.join(str(d) for d in data)\n",
    "a,b,c = data\n",
    "print(a, b, c, sep=':')"
   ]
  },
  {
   "cell_type": "code",
   "execution_count": 97,
   "metadata": {
    "collapsed": false,
    "scrolled": true
   },
   "outputs": [
    {
     "name": "stdout",
     "output_type": "stream",
     "text": [
      "Look into my eyes, look into my eyes, the eyes, the eyes, \\ the eyes,\n",
      "not around the eyes, don't look around the eyes, \\ look into my eyes,\n",
      "you're under.\n",
      "Look into my eyes, look into my eyes,\n",
      "the eyes, the eyes, \\ the eyes, not\n",
      "around the eyes, don't look around the\n",
      "eyes, \\ look into my eyes, you're under.\n",
      "   Look into my eyes, look into my eyes,\n",
      "the eyes, the eyes, \\ the eyes, not\n",
      "around the eyes, don't look around the\n",
      "eyes, \\ look into my eyes, you're under.\n"
     ]
    }
   ],
   "source": [
    "# Interpolating Variables in Strings\n",
    "\n",
    "class Info:\n",
    "    def __init__(self, name, age):\n",
    "        self.name = name\n",
    "        self.age = age\n",
    "a = Info('Ramesh',30)\n",
    "vars(a)\n",
    "\n",
    "s = '{name} has {n} messages.'\n",
    "s.format(name='Guido', n=37)\n",
    "\n",
    "name = 'Guido'\n",
    "n=37\n",
    "s.format_map(vars())\n",
    "\n",
    "# One downside of format() and format_map() is that they do not deal gracefully with missing values. For example:\n",
    "\n",
    "# s.format(name='Guido')\n",
    "class safesub(dict):\n",
    "    def __missing__(self, key):\n",
    "        return '{' + key + '}'\n",
    "s.format_map(safesub(vars()))    \n",
    "\n",
    "#  accessing stack frame local variables  and passing them to safesub is another way to substitute key with {+key+}\n",
    "import sys \n",
    "def sub(text):\n",
    "    return text.format_map(safesub(sys._getframe(1).f_locals))\n",
    "\n",
    "# one more way\n",
    "name = 'Guido'\n",
    "n=37\n",
    "# '%(name) has %(n) messages' % vars()\n",
    "\n",
    "# one other way\n",
    "import string\n",
    "s = string.Template('$name has $n messages.')\n",
    "s.substitute(vars())\n",
    "\n",
    "# However, the format() and format_map() methods are more modern than either of these alternatives, and should be preferred. One benefit of using format() is that you also get all of the features related to string formatting (alignment, padding, numerical formatting, etc.), which is simply not possible with alternatives such as Template string objects.\n",
    "# Parts of this recipe also illustrate a few interesting advanced features. The little-known __missing__() method of mapping/dict classes is a method that you can define to handle missing values. In the safesub class, this method has been defined to return missing values back as a placeholder. Instead of getting a KeyError exception, you would see the missing values appearing in the resulting string (potentially useful for debugging).\n",
    "# The sub() function uses sys._getframe(1) to return the stack frame of the caller. From that, the f_locals attribute \n",
    "# is accessed to get the local variables. It goes without saying that messing around with stack frames should probably be \n",
    "# avoided in most code. How‐ ever, for utility functions such as a string substitution feature, it can be useful. \n",
    "# As an aside, it’s probably worth noting that f_locals is a dictionary that is a copy of the local variables in the \n",
    "# calling function. Although you can modify the contents of f_locals,\n",
    "# the modifications don’t actually have any lasting effect. Thus, even though accessing a different stack \n",
    "# frame might look evil, it’s not possible to accidentally overwrite variables or change the local environment of the caller.\n",
    "\n",
    "s = \"Look into my eyes, look into my eyes, the eyes, the eyes, \\ the eyes, not around the eyes, don't look around the eyes, \\ look into my eyes, you're under.\"\n",
    "import textwrap\n",
    "print(textwrap.fill(s, 70))\n",
    "print(textwrap.fill(s, 40))\n",
    "print(textwrap.fill(s, 40, initial_indent='   '))\n",
    "\n",
    "# The textwrap module is a straightforward way to clean up text for printing—especially if you want the output to fit nicely\n",
    "# on the terminal. On the subject of the terminal size, you can obtain it using os.get_terminal_size(). For example:\n",
    "import os\n",
    "os.get_terminal_size().columns\n"
   ]
  },
  {
   "cell_type": "code",
   "execution_count": 106,
   "metadata": {
    "collapsed": false
   },
   "outputs": [],
   "source": [
    "text = 'foo = 23 + 42 * 10'\n",
    "import re\n",
    "NAME = r'(?P<NAME>[a-zA-Z_][a-zA-Z_0-9]*)' \n",
    "NUM = r'(?P<NUM>\\d+)'\n",
    "PLUS = r'(?P<PLUS>\\+)'\n",
    "TIMES = r'(?P<TIMES>\\*)'\n",
    "EQ = r'(?P<EQ>=)'\n",
    "WS = r'(?P<WS>\\s+)'\n",
    "master_pat = re.compile('|'.join([NAME, NUM, PLUS, TIMES, EQ, WS]))\n",
    "scanner = master_pat.scanner('foo = 42')\n",
    "from collections import namedtuple\n",
    "Token = namedtuple('Token', ['type','value'])\n",
    "\n",
    "def generate_tokens(pat, text): \n",
    "    scanner = pat.scanner(text)\n",
    "    for m in iter(scanner.match, None):\n",
    "        yield Token(m.lastgroup, m.group())\n",
    "        \n",
    "# for tok in generate_tokens(master_pat, 'foo = 42'): \n",
    "#     print(tok)\n",
    "    \n",
    "LT = r'(?P<LT><)'\n",
    "LE = r'(?P<LE><=)'\n",
    "EQ = r'(?P<EQ>=)'\n",
    "master_pat = re.compile('|'.join([LE, LT, EQ]))\n",
    "\n",
    "\n",
    "    "
   ]
  },
  {
   "cell_type": "code",
   "execution_count": 109,
   "metadata": {
    "collapsed": false
   },
   "outputs": [
    {
     "name": "stdout",
     "output_type": "stream",
     "text": [
      "Token(type='PRINT', value='print')\n",
      "Token(type='NAME', value='er')\n",
      "Hello wordl\n"
     ]
    }
   ],
   "source": [
    "import re\n",
    "PRINT = r'(?P<PRINT>print)'\n",
    "NAME  = r'(?P<NAME>[a-zA-Z_][a-zA-Z_0-9]*)'\n",
    "master_pat = re.compile('|'.join([PRINT, NAME]))\n",
    "for tok in generate_tokens(master_pat, 'printer'):\n",
    "    print(tok)\n",
    "print(\"Hello wordl\")"
   ]
  },
  {
   "cell_type": "code",
   "execution_count": 112,
   "metadata": {
    "collapsed": false
   },
   "outputs": [
    {
     "name": "stdout",
     "output_type": "stream",
     "text": [
      "2012-10-03 00:00:00\n"
     ]
    },
    {
     "data": {
      "text/plain": [
       "89"
      ]
     },
     "execution_count": 112,
     "metadata": {},
     "output_type": "execute_result"
    }
   ],
   "source": [
    "# Converting Days to Seconds, and Other Basic Time Conversions\n",
    "from datetime import timedelta\n",
    "a = timedelta(days=2, hours=6)\n",
    "b = timedelta(hours=4.5)\n",
    "c=a+b\n",
    "c.seconds\n",
    "\n",
    "from datetime import datetime\n",
    "a = datetime(2012, 9, 23)\n",
    "print(a + timedelta(days=10))\n",
    "b = datetime(2012, 12, 21)\n",
    "d=b-a\n",
    "d.days"
   ]
  },
  {
   "cell_type": "code",
   "execution_count": 117,
   "metadata": {
    "collapsed": false
   },
   "outputs": [
    {
     "name": "stdout",
     "output_type": "stream",
     "text": [
      "150 days, 22:07:17.140229\n",
      "Sunday September 23, 2012\n",
      "2016-02-14 00:00:00\n"
     ]
    }
   ],
   "source": [
    "# Converting Strings into Datetimes\n",
    "# Your application receives temporal data in string format, but you want to convert those strings into datetime \n",
    "# objects in order to perform nonstring operations on them.\n",
    "from datetime import datetime\n",
    "text = '2015-09-20'\n",
    "y = datetime.strptime(text, '%Y-%m-%d')\n",
    "z = datetime.now()\n",
    "diff=z-y\n",
    "print(diff)\n",
    "# The datetime.strptime() method supports a host of formatting codes, like %Y for the four-digit \n",
    "# year and %m for the two-digit month. It’s also worth noting that these format‐ting placeholders also work in reverse, \n",
    "# in case you need to represent a datetime object in string output and make it look nice.\n",
    "\n",
    "z= datetime(2012, 9, 23, 21, 37, 4, 177393)\n",
    "nice_z = datetime.strftime(z, '%A %B %d, %Y')\n",
    "print(nice_z)\n",
    "# It’s worth noting that the performance of strptime() is often much worse than you might expect, due to the fact that it’s written in pure Python and it has to deal with all sorts of system locale settings. If you are parsing a lot of dates in your code and you know the precise format, you will probably get much better performance by cooking up a custom solution instead. For example, if you knew that the dates were of the form “YYYY-MM-DD,” you could write a function like this:\n",
    "from datetime import datetime\n",
    "def parse_ymd(s):\n",
    "        year_s, mon_s, day_s = s.split('-')\n",
    "        return datetime(int(year_s), int(mon_s), int(day_s))\n",
    "print(parse_ymd(\"2016-02-14\"))\n"
   ]
  },
  {
   "cell_type": "code",
   "execution_count": 123,
   "metadata": {
    "collapsed": false
   },
   "outputs": [
    {
     "name": "stdout",
     "output_type": "stream",
     "text": [
      "2015-12-21 09:30:00\n",
      "2015-12-21 21:00:00+05:30\n",
      "2015-12-21 15:30:00+00:00\n"
     ]
    },
    {
     "data": {
      "text/plain": [
       "['Asia/Kolkata']"
      ]
     },
     "execution_count": 123,
     "metadata": {},
     "output_type": "execute_result"
    }
   ],
   "source": [
    "# Manipulating Dates Involving Time Zones\n",
    "from datetime import datetime\n",
    "from pytz import timezone,utc\n",
    "import pytz\n",
    "d = datetime(2015, 12, 21, 9, 30, 0)\n",
    "print(d)\n",
    "central = timezone('US/Central')\n",
    "loc_d = central.localize(d)\n",
    "bang_d = loc_d.astimezone(timezone('Asia/Kolkata'))\n",
    "print(bang_d)\n",
    "\n",
    "# To keep your head from completely exploding, a common strategy for localized date handling is to convert all dates to UTC time and to use that for all internal storage and manipulation. For example:\n",
    "utc_d = loc_d.astimezone(utc)\n",
    "print(utc_d)\n",
    "\n",
    "# One issue in working with time zones is simply figuring out what time zone names to use. For example, in this recipe, how was it known that “Asia/Kolkata” was the correct time zone name for India? To find out, you can consult the pytz.country_timezones dictionary using the ISO 3166 country code as a key. For example:\n",
    "pytz.country_timezones['IN']"
   ]
  },
  {
   "cell_type": "code",
   "execution_count": 130,
   "metadata": {
    "collapsed": false
   },
   "outputs": [
    {
     "name": "stdout",
     "output_type": "stream",
     "text": [
      "Node(1)\n",
      "Node(2)\n"
     ]
    }
   ],
   "source": [
    "# with open('/etc/passwd') as f: \n",
    "#     try:\n",
    "#         while True:\n",
    "#             line = next(f)\n",
    "#             print(line, end='') \n",
    "#     except StopIteration:\n",
    "#         pass\n",
    "    \n",
    "# # Normally, StopIteration is used to signal the end of iteration. However, if you’re using next() manually (as shown), \n",
    "# # you can also instruct it to return a terminating value, such as None, instead\n",
    "# with open('/etc/passwd') as f: \n",
    "#     while True:\n",
    "#         line = next(f, None) \n",
    "#         if line is None:\n",
    "#             break \n",
    "#         print(line, end='')\n",
    "        \n",
    "items = [1, 2, 3]\n",
    "it = iter(items)\n",
    "next(it)\n",
    "next(it)\n",
    "\n",
    "class Node:\n",
    "    def __init__(self, value):\n",
    "            self._value = value\n",
    "            self._children = []\n",
    "    def __repr__(self):\n",
    "        return 'Node({!r})'.format(self._value)\n",
    "    def add_child(self, node): \n",
    "        self._children.append(node)\n",
    "    def __iter__(self):\n",
    "        return iter(self._children)\n",
    "    \n",
    "root = Node(0)\n",
    "child1 = Node(1)\n",
    "child2 = Node(2)\n",
    "root.add_child(child1) \n",
    "root.add_child(child2) \n",
    "for ch in root:\n",
    "    print(ch)    \n",
    "#  Python’s iterator protocol requires __iter__() to return a special iterator object that implements a __next__() method to carry out the actual iteration. If all you are doing is iterating over the contents of another container, you don’t really need to worry about the underlying details of how it works. All you need to do is to forward the iteration request along.\n",
    "# The use of the iter() function here is a bit of a shortcut that cleans up the code. iter(s) simply \n",
    "# returns the underlying iterator by calling s.__iter__(), much in the same way that len(s) invokes s.__len__().\n",
    "\n",
    "# reating New Iteration Patterns with Generators\n",
    "# You want to implement a custom iteration pattern that’s different than the usual built- in functions (e.g., range(), reversed(), etc.).\n",
    "# If you want to implement a new kind of iteration pattern, define it using a generator function. Here’s a generator that produces a range of floating-point numbers:\n",
    "def frange(start, stop, increment): \n",
    "    x = start\n",
    "    while x < stop: \n",
    "        yield x\n",
    "    x += increment\n"
   ]
  },
  {
   "cell_type": "code",
   "execution_count": 131,
   "metadata": {
    "collapsed": false
   },
   "outputs": [
    {
     "name": "stdout",
     "output_type": "stream",
     "text": [
      "0\n",
      "2\n",
      "3\n",
      "2\n",
      "3\n",
      "4\n"
     ]
    }
   ],
   "source": [
    "def jumping_range(up_to):\n",
    "    \"\"\"Generator for the sequence of integers from 0 to up_to, exclusive.\n",
    "\n",
    "    Sending a value into the generator will shift the sequence by that amount.\n",
    "    \"\"\"\n",
    "    index = 0\n",
    "    while index < up_to:\n",
    "        jump = yield index\n",
    "        if jump is None:\n",
    "            jump = 1\n",
    "        index += jump\n",
    "\n",
    "\n",
    "if __name__ == '__main__':\n",
    "    iterator = jumping_range(5)\n",
    "    print(next(iterator))  # 0\n",
    "    print(iterator.send(2))  # 2\n",
    "    print(next(iterator))  # 3\n",
    "    print(iterator.send(-1))  # 2\n",
    "    for x in iterator:\n",
    "        print(x)  # 3, 4"
   ]
  },
  {
   "cell_type": "code",
   "execution_count": null,
   "metadata": {
    "collapsed": true
   },
   "outputs": [],
   "source": []
  }
 ],
 "metadata": {
  "kernelspec": {
   "display_name": "Python 3",
   "language": "python",
   "name": "python3"
  },
  "language_info": {
   "codemirror_mode": {
    "name": "ipython",
    "version": 3
   },
   "file_extension": ".py",
   "mimetype": "text/x-python",
   "name": "python",
   "nbconvert_exporter": "python",
   "pygments_lexer": "ipython3",
   "version": "3.5.1"
  }
 },
 "nbformat": 4,
 "nbformat_minor": 0
}
